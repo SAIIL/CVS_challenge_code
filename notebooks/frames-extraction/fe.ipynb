{
 "cells": [
  {
   "cell_type": "code",
   "execution_count": 2,
   "metadata": {},
   "outputs": [],
   "source": [
    "import cv2\n",
    "import os"
   ]
  },
  {
   "cell_type": "code",
   "execution_count": 4,
   "metadata": {},
   "outputs": [],
   "source": [
    "def extract_frames(video_path, output_folder, fps=1):\n",
    "    # make sure fps is a multiple of 0.2\n",
    "    if (fps*10) % (0.2*10) != 0:  # *10 is to avoid floating-point precision issue\n",
    "        raise ValueError(\"FPS must be a multiple of 0.2\")\n",
    "\n",
    "    # load video\n",
    "    video = cv2.VideoCapture(video_path)\n",
    "    if not video.isOpened():\n",
    "        raise IOError(\"Error opening video file\")\n",
    "\n",
    "    # get original fps\n",
    "    original_fps = video.get(cv2.CAP_PROP_FPS)\n",
    "    frame_interval = int(original_fps / fps)\n",
    "    # print(original_fps, fps, frame_interval)\n",
    "\n",
    "    # create output folder if not existed\n",
    "    os.makedirs(output_folder, exist_ok=True)\n",
    "    \n",
    "    frame_count = 0\n",
    "    extracted_count = 0\n",
    "\n",
    "    while True:\n",
    "        ret, frame = video.read()\n",
    "        if not ret:\n",
    "            break\n",
    "\n",
    "        # extract subsets every frame_interval frame\n",
    "        if frame_count % frame_interval == 0:\n",
    "            output_frame_path = os.path.join(output_folder, f\"frame_{extracted_count:04d}.jpg\")\n",
    "            cv2.imwrite(output_frame_path, frame)\n",
    "            print(f\"Extracted frame {extracted_count:04d}\")\n",
    "            extracted_count += 1\n",
    "        \n",
    "        frame_count += 1\n",
    "\n",
    "    video.release()\n",
    "    print(\"Done extracting frames.\")"
   ]
  },
  {
   "cell_type": "code",
   "execution_count": 5,
   "metadata": {},
   "outputs": [],
   "source": [
    "def process_videos_in_directory(videos_directory=\"videos/\", frames_directory=\"frames/\", fps=1):\n",
    "    video_files = [f for f in os.listdir(videos_directory) if f.endswith(\".mp4\")]\n",
    "    \n",
    "    for video_file in video_files:\n",
    "        video_path = os.path.join(videos_directory, video_file)\n",
    "        video_name = os.path.splitext(video_file)[0]  # remove .mp4 extension\n",
    "        output_folder = os.path.join(frames_directory, video_name)\n",
    "        \n",
    "        print(f\"Processing video: {video_file}\")\n",
    "        extract_frames(video_path, output_folder, fps)"
   ]
  },
  {
   "cell_type": "code",
   "execution_count": 6,
   "metadata": {},
   "outputs": [],
   "source": [
    "# Example usage in a notebook\n",
    "videos_directory = \"videos/\"  # Define the directory containing the videos\n",
    "frames_directory = \"frames/\"  # Define the directory to save extracted frames\n",
    "fps = 1  # Define the frames per second at which to extract frames\n",
    "\n",
    "# Process the videos in the specified directory\n",
    "process_videos_in_directory(videos_directory, frames_directory, fps)"
   ]
  }
 ],
 "metadata": {
  "kernelspec": {
   "display_name": "cvs",
   "language": "python",
   "name": "python3"
  },
  "language_info": {
   "codemirror_mode": {
    "name": "ipython",
    "version": 3
   },
   "file_extension": ".py",
   "mimetype": "text/x-python",
   "name": "python",
   "nbconvert_exporter": "python",
   "pygments_lexer": "ipython3",
   "version": "3.9.13"
  }
 },
 "nbformat": 4,
 "nbformat_minor": 2
}
